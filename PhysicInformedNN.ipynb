{
  "nbformat": 4,
  "nbformat_minor": 0,
  "metadata": {
    "colab": {
      "provenance": [],
      "gpuType": "T4",
      "authorship_tag": "ABX9TyO3559s//x5wloYd8hCiK9K",
      "include_colab_link": true
    },
    "kernelspec": {
      "name": "python3",
      "display_name": "Python 3"
    },
    "language_info": {
      "name": "python"
    },
    "accelerator": "GPU"
  },
  "cells": [
    {
      "cell_type": "markdown",
      "metadata": {
        "id": "view-in-github",
        "colab_type": "text"
      },
      "source": [
        "<a href=\"https://colab.research.google.com/github/ankitgupta47/physics_informed_NN/blob/main/PhysicInformedNN.ipynb\" target=\"_parent\"><img src=\"https://colab.research.google.com/assets/colab-badge.svg\" alt=\"Open In Colab\"/></a>"
      ]
    },
    {
      "cell_type": "code",
      "execution_count": 69,
      "metadata": {
        "id": "nV9s1fDsas5S"
      },
      "outputs": [],
      "source": [
        "import torch\n",
        "import torch.nn as nn\n",
        "import numpy as np\n",
        "from scipy.integrate import solve_ivp\n",
        "import matplotlib.pyplot as plt\n"
      ]
    },
    {
      "cell_type": "code",
      "source": [
        "# Constant for the model\n",
        "k = 1\n",
        "F = lambda t, s: -k*s\n",
        "initial_value = 2.0"
      ],
      "metadata": {
        "id": "cQSqyvIulO8y"
      },
      "execution_count": 70,
      "outputs": []
    },
    {
      "cell_type": "code",
      "source": [
        "class NeuralNet(nn.Module):\n",
        "    def __init__(self, hidden_size, output_size=1,input_size=1):\n",
        "        super(NeuralNet, self).__init__()\n",
        "        self.l1 = nn.Linear(input_size, hidden_size)\n",
        "        self.relu1 = nn.LeakyReLU()\n",
        "        self.l2 = nn.Linear(hidden_size, hidden_size)\n",
        "        self.relu2 = nn.LeakyReLU()\n",
        "        self.l3 = nn.Linear(hidden_size, hidden_size)\n",
        "        self.relu3 = nn.LeakyReLU()\n",
        "        self.l4 = nn.Linear(hidden_size, hidden_size)\n",
        "        self.relu4 = nn.LeakyReLU()\n",
        "        self.l5 = nn.Linear(hidden_size, output_size)\n",
        "\n",
        "    def forward(self, x):\n",
        "        out = self.l1(x)\n",
        "        out = self.relu1(out)\n",
        "        out = self.l2(out)\n",
        "        out = self.relu2(out)\n",
        "        out = self.l3(out)\n",
        "        out = self.relu3(out)\n",
        "        out = self.l4(out)\n",
        "        out = self.relu4(out)\n",
        "        out = self.l5(out)\n",
        "        return out"
      ],
      "metadata": {
        "id": "IBR_atrqc-ub"
      },
      "execution_count": 71,
      "outputs": []
    },
    {
      "cell_type": "code",
      "source": [
        "# Create the criterion that will be used for the DE part of the loss\n",
        "criterion = nn.MSELoss()\n",
        "\n",
        "# Define the loss function for the initial condition\n",
        "def initial_condition_loss(y, target_value):\n",
        "    return criterion(y, target_value)"
      ],
      "metadata": {
        "id": "uGcULMpPeN97"
      },
      "execution_count": 72,
      "outputs": []
    },
    {
      "cell_type": "code",
      "source": [
        "# Time vector that will be used as input of our NN\n",
        "t_numpy = np.arange(0, 5+0.01, 0.01, dtype=np.float32)\n",
        "t = torch.from_numpy(t_numpy).reshape(len(t_numpy), 1)\n",
        "t.requires_grad_(True)\n",
        "\n",
        "# Instantiate one model with 20 neurons on the hidden layers\n",
        "model = NeuralNet(hidden_size=20)\n",
        "\n",
        "# Loss and optimizer\n",
        "learning_rate = 8e-3\n",
        "optimizer = torch.optim.SGD(model.parameters(), lr=learning_rate)\n",
        "\n",
        "# Number of epochs\n",
        "num_epochs = int(1e4)"
      ],
      "metadata": {
        "id": "QAKkgqmeeprK"
      },
      "execution_count": 73,
      "outputs": []
    },
    {
      "cell_type": "code",
      "source": [
        "for epoch in range(num_epochs):\n",
        "\n",
        "    # Randomly perturbing the training points to have a wider range of times\n",
        "    epsilon = torch.normal(0,0.1, size=(len(t),1)).float()\n",
        "    t_train = t + epsilon\n",
        "\n",
        "    # Forward pass\n",
        "    y_pred = model(t_train)\n",
        "\n",
        "    # Calculate the derivative of the forward pass w.r.t. the input (t)\n",
        "    dy_dt = torch.autograd.grad(y_pred,\n",
        "                                t_train,\n",
        "                                grad_outputs=torch.ones_like(y_pred),\n",
        "                                create_graph=True)[0]\n",
        "\n",
        "    # Define the differential equation and calculate the loss\n",
        "    loss_DE = criterion(dy_dt + k*y_pred, torch.zeros_like(dy_dt))\n",
        "\n",
        "    # Define the initial condition loss\n",
        "    loss_IC = initial_condition_loss(model(torch.tensor([[0.0]])),\n",
        "                                     torch.tensor([[initial_value]]))\n",
        "\n",
        "    loss = loss_DE + loss_IC\n",
        "\n",
        "    # Backward pass and weight update\n",
        "    optimizer.zero_grad()\n",
        "    loss.backward()\n",
        "    optimizer.step()"
      ],
      "metadata": {
        "id": "dE3rbNwTe9cD"
      },
      "execution_count": 74,
      "outputs": []
    },
    {
      "cell_type": "code",
      "source": [
        "# comparing Ode solution and physics informed neural network\n",
        "\n",
        "t_final = 5.0\n",
        "t_eval = np.arange(0,t_final+0.1, 0.1)\n",
        "sol = solve_ivp(F, [0, t_final], [initial_value], t_eval=t_eval)\n",
        "plt.plot(sol.t, sol.y[0])\n",
        "\n",
        "model.eval()\n",
        "t_numpy = np.arange(0, 5+0.01, 0.01, dtype=np.float32)\n",
        "t_p = torch.from_numpy(t_numpy).reshape(len(t_numpy), 1)\n",
        "y_model = model(t_p)\n",
        "y_model = y_model.detach().numpy()\n",
        "plt.plot(t_numpy, y_model)\n"
      ],
      "metadata": {
        "colab": {
          "base_uri": "https://localhost:8080/",
          "height": 447
        },
        "id": "R4khDNiGin-j",
        "outputId": "0607a89e-197b-46dd-9f6a-3a71e01739b1"
      },
      "execution_count": 75,
      "outputs": [
        {
          "output_type": "execute_result",
          "data": {
            "text/plain": [
              "[<matplotlib.lines.Line2D at 0x78645344ea40>]"
            ]
          },
          "metadata": {},
          "execution_count": 75
        },
        {
          "output_type": "display_data",
          "data": {
            "text/plain": [
              "<Figure size 640x480 with 1 Axes>"
            ],
            "image/png": "[encoded data removed]"
          },
          "metadata": {}
        }
      ]
    }
  ]
}